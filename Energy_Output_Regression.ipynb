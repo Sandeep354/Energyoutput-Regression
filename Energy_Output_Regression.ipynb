{
  "nbformat": 4,
  "nbformat_minor": 0,
  "metadata": {
    "colab": {
      "name": "Energy-Output-Regression",
      "provenance": [],
      "collapsed_sections": [],
      "toc_visible": true,
      "include_colab_link": true
    },
    "kernelspec": {
      "name": "python3",
      "display_name": "Python 3"
    }
  },
  "cells": [
    {
      "cell_type": "markdown",
      "metadata": {
        "id": "view-in-github",
        "colab_type": "text"
      },
      "source": [
        "<a href=\"https://colab.research.google.com/github/Sandeep354/Energyoutput-Regression/blob/main/Energy_Output_Regression.ipynb\" target=\"_parent\"><img src=\"https://colab.research.google.com/assets/colab-badge.svg\" alt=\"Open In Colab\"/></a>"
      ]
    },
    {
      "cell_type": "markdown",
      "metadata": {
        "id": "3cbb7fRy-eyr"
      },
      "source": [
        "# Artificial Neural Network"
      ]
    },
    {
      "cell_type": "markdown",
      "metadata": {
        "id": "8sNDnxE2-pwE"
      },
      "source": [
        "### Importing the libraries"
      ]
    },
    {
      "cell_type": "code",
      "metadata": {
        "id": "5dSHJ9fm3eBq"
      },
      "source": [
        "import numpy as np\n",
        "import pandas as pd\n",
        "import tensorflow as tf"
      ],
      "execution_count": 1,
      "outputs": []
    },
    {
      "cell_type": "code",
      "metadata": {
        "id": "odMefSGU3ihm",
        "outputId": "a59f8ef6-2a89-446b-f90c-383054e5cdeb",
        "colab": {
          "base_uri": "https://localhost:8080/",
          "height": 37
        }
      },
      "source": [
        "tf.__version__"
      ],
      "execution_count": 2,
      "outputs": [
        {
          "output_type": "execute_result",
          "data": {
            "application/vnd.google.colaboratory.intrinsic+json": {
              "type": "string"
            },
            "text/plain": [
              "'2.3.0'"
            ]
          },
          "metadata": {
            "tags": []
          },
          "execution_count": 2
        }
      ]
    },
    {
      "cell_type": "markdown",
      "metadata": {
        "id": "AG3FQEch-yuA"
      },
      "source": [
        "## Part 1 - Data Preprocessing"
      ]
    },
    {
      "cell_type": "markdown",
      "metadata": {
        "id": "-4zq8Mza_D9O"
      },
      "source": [
        "### Importing the dataset"
      ]
    },
    {
      "cell_type": "code",
      "metadata": {
        "id": "jNaU_5_v3qF_"
      },
      "source": [
        "dataset = pd.read_excel('Energy-pred.xlsx')\n",
        "\n",
        "# Features Matrix\n",
        "X = dataset.iloc[:, :-1].values #iloc[rows -> all needed, columns -> all except the last]\n",
        "\n",
        "# Dependent Variable Vector (what we are going to predict)\n",
        "y = dataset.iloc[:, -1].values #only last column needed"
      ],
      "execution_count": 3,
      "outputs": []
    },
    {
      "cell_type": "code",
      "metadata": {
        "id": "nQgjeVp16DxK",
        "outputId": "35ad1398-2a65-4933-ed80-8e2c33370847",
        "colab": {
          "base_uri": "https://localhost:8080/",
          "height": 204
        }
      },
      "source": [
        "dataset.head()"
      ],
      "execution_count": 6,
      "outputs": [
        {
          "output_type": "execute_result",
          "data": {
            "text/html": [
              "<div>\n",
              "<style scoped>\n",
              "    .dataframe tbody tr th:only-of-type {\n",
              "        vertical-align: middle;\n",
              "    }\n",
              "\n",
              "    .dataframe tbody tr th {\n",
              "        vertical-align: top;\n",
              "    }\n",
              "\n",
              "    .dataframe thead th {\n",
              "        text-align: right;\n",
              "    }\n",
              "</style>\n",
              "<table border=\"1\" class=\"dataframe\">\n",
              "  <thead>\n",
              "    <tr style=\"text-align: right;\">\n",
              "      <th></th>\n",
              "      <th>AT</th>\n",
              "      <th>V</th>\n",
              "      <th>AP</th>\n",
              "      <th>RH</th>\n",
              "      <th>PE</th>\n",
              "    </tr>\n",
              "  </thead>\n",
              "  <tbody>\n",
              "    <tr>\n",
              "      <th>0</th>\n",
              "      <td>14.96</td>\n",
              "      <td>41.76</td>\n",
              "      <td>1024.07</td>\n",
              "      <td>73.17</td>\n",
              "      <td>463.26</td>\n",
              "    </tr>\n",
              "    <tr>\n",
              "      <th>1</th>\n",
              "      <td>25.18</td>\n",
              "      <td>62.96</td>\n",
              "      <td>1020.04</td>\n",
              "      <td>59.08</td>\n",
              "      <td>444.37</td>\n",
              "    </tr>\n",
              "    <tr>\n",
              "      <th>2</th>\n",
              "      <td>5.11</td>\n",
              "      <td>39.40</td>\n",
              "      <td>1012.16</td>\n",
              "      <td>92.14</td>\n",
              "      <td>488.56</td>\n",
              "    </tr>\n",
              "    <tr>\n",
              "      <th>3</th>\n",
              "      <td>20.86</td>\n",
              "      <td>57.32</td>\n",
              "      <td>1010.24</td>\n",
              "      <td>76.64</td>\n",
              "      <td>446.48</td>\n",
              "    </tr>\n",
              "    <tr>\n",
              "      <th>4</th>\n",
              "      <td>10.82</td>\n",
              "      <td>37.50</td>\n",
              "      <td>1009.23</td>\n",
              "      <td>96.62</td>\n",
              "      <td>473.90</td>\n",
              "    </tr>\n",
              "  </tbody>\n",
              "</table>\n",
              "</div>"
            ],
            "text/plain": [
              "      AT      V       AP     RH      PE\n",
              "0  14.96  41.76  1024.07  73.17  463.26\n",
              "1  25.18  62.96  1020.04  59.08  444.37\n",
              "2   5.11  39.40  1012.16  92.14  488.56\n",
              "3  20.86  57.32  1010.24  76.64  446.48\n",
              "4  10.82  37.50  1009.23  96.62  473.90"
            ]
          },
          "metadata": {
            "tags": []
          },
          "execution_count": 6
        }
      ]
    },
    {
      "cell_type": "code",
      "metadata": {
        "id": "ijmbRMXL5_l1",
        "outputId": "3bfcf0ad-2305-45e2-d71d-34278bb16af5",
        "colab": {
          "base_uri": "https://localhost:8080/",
          "height": 136
        }
      },
      "source": [
        "X"
      ],
      "execution_count": 9,
      "outputs": [
        {
          "output_type": "execute_result",
          "data": {
            "text/plain": [
              "array([[  14.96,   41.76, 1024.07,   73.17],\n",
              "       [  25.18,   62.96, 1020.04,   59.08],\n",
              "       [   5.11,   39.4 , 1012.16,   92.14],\n",
              "       ...,\n",
              "       [  31.32,   74.33, 1012.92,   36.48],\n",
              "       [  24.48,   69.45, 1013.86,   62.39],\n",
              "       [  21.6 ,   62.52, 1017.23,   67.87]])"
            ]
          },
          "metadata": {
            "tags": []
          },
          "execution_count": 9
        }
      ]
    },
    {
      "cell_type": "code",
      "metadata": {
        "id": "sc93bgz76Be0",
        "outputId": "13ee2f50-0426-448f-c612-31b235621415",
        "colab": {
          "base_uri": "https://localhost:8080/",
          "height": 34
        }
      },
      "source": [
        "y"
      ],
      "execution_count": 5,
      "outputs": [
        {
          "output_type": "execute_result",
          "data": {
            "text/plain": [
              "array([463.26, 444.37, 488.56, ..., 429.57, 435.74, 453.28])"
            ]
          },
          "metadata": {
            "tags": []
          },
          "execution_count": 5
        }
      ]
    },
    {
      "cell_type": "markdown",
      "metadata": {
        "id": "VC6omXel_Up0"
      },
      "source": [
        "### Splitting the dataset into the Training set and Test set"
      ]
    },
    {
      "cell_type": "code",
      "metadata": {
        "id": "4Hz6LkSJ6L2t"
      },
      "source": [
        "from sklearn.model_selection import train_test_split\n",
        "\n",
        "X_train, X_test, y_train, y_test = train_test_split(X, y, test_size=0.2, random_state=0)"
      ],
      "execution_count": 7,
      "outputs": []
    },
    {
      "cell_type": "markdown",
      "metadata": {
        "id": "_mSLlAT9_eyI"
      },
      "source": [
        "## Part 2 - Building the ANN"
      ]
    },
    {
      "cell_type": "markdown",
      "metadata": {
        "id": "CsBULd_f_wLY"
      },
      "source": [
        "### Initializing the ANN"
      ]
    },
    {
      "cell_type": "code",
      "metadata": {
        "id": "0M-i0BBw8prj"
      },
      "source": [
        "# We have to chose btw Sequential Layers and Computional Graph. We will do the first one\n",
        "# Building a sequence of layers (we will make an object of sequential class)\n",
        "# keras - sublibrary of tensorflow 2.0\n",
        "ann = tf.keras.models.Sequential() "
      ],
      "execution_count": 10,
      "outputs": []
    },
    {
      "cell_type": "markdown",
      "metadata": {
        "id": "iitAFJS_ABUn"
      },
      "source": [
        "### Adding the input layer and the first hidden layer"
      ]
    },
    {
      "cell_type": "code",
      "metadata": {
        "id": "X7LbI7Dk_LqO"
      },
      "source": [
        "# units - no. of neurons in the 1st hidden layer (no need to specify units for input layer)\n",
        "# (when we add the data, ann will automatically find the no.of input units)\n",
        "ann.add(tf.keras.layers.Dense(units=6, activation='relu'))"
      ],
      "execution_count": 11,
      "outputs": []
    },
    {
      "cell_type": "markdown",
      "metadata": {
        "id": "-lb4kK_wAKbs"
      },
      "source": [
        "### Adding the second hidden layer"
      ]
    },
    {
      "cell_type": "code",
      "metadata": {
        "id": "JPzx1QzgANzK"
      },
      "source": [
        "# Same code for adding more layers (we can tweek the units and activation)\n",
        "ann.add(tf.keras.layers.Dense(units=6, activation='relu'))"
      ],
      "execution_count": 12,
      "outputs": []
    },
    {
      "cell_type": "markdown",
      "metadata": {
        "id": "jwMOmKb3AdBY"
      },
      "source": [
        "### Adding the output layer"
      ]
    },
    {
      "cell_type": "code",
      "metadata": {
        "id": "Hdx9w2sbAn9G"
      },
      "source": [
        "# if classification with binary - use sigmoid\n",
        "# for more than 2 classification (categorical) - use softmax\n",
        "# for regression - use defult None\n",
        "ann.add(tf.keras.layers.Dense(units=1))"
      ],
      "execution_count": 13,
      "outputs": []
    },
    {
      "cell_type": "markdown",
      "metadata": {
        "id": "fq7e4fF6A1yy"
      },
      "source": [
        "## Part 3 - Training the ANN"
      ]
    },
    {
      "cell_type": "markdown",
      "metadata": {
        "id": "qDeylAs2An25"
      },
      "source": [
        "### Compiling the ANN"
      ]
    },
    {
      "cell_type": "code",
      "metadata": {
        "id": "zcarPtioB_gC"
      },
      "source": [
        "ann.compile(optimizer='adam', loss='mean_squared_error')"
      ],
      "execution_count": 14,
      "outputs": []
    },
    {
      "cell_type": "markdown",
      "metadata": {
        "id": "YjVuiybYOo7r"
      },
      "source": [
        "### Training the ANN model on the Training set"
      ]
    },
    {
      "cell_type": "code",
      "metadata": {
        "id": "0qR3ZVEXDFWK",
        "outputId": "71aa1d2e-3f4f-4df4-a2fb-e44c972d0ed6",
        "colab": {
          "base_uri": "https://localhost:8080/",
          "height": 1000
        }
      },
      "source": [
        "ann.fit(x=X_train, y=y_train, epochs=100, batch_size=32)"
      ],
      "execution_count": 15,
      "outputs": [
        {
          "output_type": "stream",
          "text": [
            "Epoch 1/100\n",
            "240/240 [==============================] - 0s 927us/step - loss: 223389.2031\n",
            "Epoch 2/100\n",
            "240/240 [==============================] - 0s 812us/step - loss: 2696.7463\n",
            "Epoch 3/100\n",
            "240/240 [==============================] - 0s 836us/step - loss: 336.6451\n",
            "Epoch 4/100\n",
            "240/240 [==============================] - 0s 804us/step - loss: 332.5417\n",
            "Epoch 5/100\n",
            "240/240 [==============================] - 0s 868us/step - loss: 327.6067\n",
            "Epoch 6/100\n",
            "240/240 [==============================] - 0s 832us/step - loss: 321.9160\n",
            "Epoch 7/100\n",
            "240/240 [==============================] - 0s 824us/step - loss: 315.2934\n",
            "Epoch 8/100\n",
            "240/240 [==============================] - 0s 799us/step - loss: 308.1312\n",
            "Epoch 9/100\n",
            "240/240 [==============================] - 0s 811us/step - loss: 299.9357\n",
            "Epoch 10/100\n",
            "240/240 [==============================] - 0s 840us/step - loss: 291.2037\n",
            "Epoch 11/100\n",
            "240/240 [==============================] - 0s 907us/step - loss: 281.3427\n",
            "Epoch 12/100\n",
            "240/240 [==============================] - 0s 799us/step - loss: 271.0980\n",
            "Epoch 13/100\n",
            "240/240 [==============================] - 0s 831us/step - loss: 259.9975\n",
            "Epoch 14/100\n",
            "240/240 [==============================] - 0s 870us/step - loss: 247.9475\n",
            "Epoch 15/100\n",
            "240/240 [==============================] - 0s 806us/step - loss: 235.4255\n",
            "Epoch 16/100\n",
            "240/240 [==============================] - 0s 898us/step - loss: 222.5801\n",
            "Epoch 17/100\n",
            "240/240 [==============================] - 0s 801us/step - loss: 209.5828\n",
            "Epoch 18/100\n",
            "240/240 [==============================] - 0s 868us/step - loss: 195.8311\n",
            "Epoch 19/100\n",
            "240/240 [==============================] - 0s 812us/step - loss: 182.3873\n",
            "Epoch 20/100\n",
            "240/240 [==============================] - 0s 872us/step - loss: 169.0904\n",
            "Epoch 21/100\n",
            "240/240 [==============================] - 0s 832us/step - loss: 155.1605\n",
            "Epoch 22/100\n",
            "240/240 [==============================] - 0s 908us/step - loss: 142.4972\n",
            "Epoch 23/100\n",
            "240/240 [==============================] - 0s 986us/step - loss: 129.1688\n",
            "Epoch 24/100\n",
            "240/240 [==============================] - 0s 908us/step - loss: 116.8433\n",
            "Epoch 25/100\n",
            "240/240 [==============================] - 0s 897us/step - loss: 104.7937\n",
            "Epoch 26/100\n",
            "240/240 [==============================] - 0s 827us/step - loss: 94.5577\n",
            "Epoch 27/100\n",
            "240/240 [==============================] - 0s 827us/step - loss: 83.4245\n",
            "Epoch 28/100\n",
            "240/240 [==============================] - 0s 835us/step - loss: 74.3604\n",
            "Epoch 29/100\n",
            "240/240 [==============================] - 0s 931us/step - loss: 65.0183\n",
            "Epoch 30/100\n",
            "240/240 [==============================] - 0s 872us/step - loss: 57.1586\n",
            "Epoch 31/100\n",
            "240/240 [==============================] - 0s 803us/step - loss: 50.8216\n",
            "Epoch 32/100\n",
            "240/240 [==============================] - 0s 824us/step - loss: 45.2249\n",
            "Epoch 33/100\n",
            "240/240 [==============================] - 0s 832us/step - loss: 40.3446\n",
            "Epoch 34/100\n",
            "240/240 [==============================] - 0s 825us/step - loss: 37.0244\n",
            "Epoch 35/100\n",
            "240/240 [==============================] - 0s 888us/step - loss: 33.9378\n",
            "Epoch 36/100\n",
            "240/240 [==============================] - 0s 857us/step - loss: 31.8929\n",
            "Epoch 37/100\n",
            "240/240 [==============================] - 0s 788us/step - loss: 30.3178\n",
            "Epoch 38/100\n",
            "240/240 [==============================] - 0s 812us/step - loss: 29.2104\n",
            "Epoch 39/100\n",
            "240/240 [==============================] - 0s 876us/step - loss: 28.5472\n",
            "Epoch 40/100\n",
            "240/240 [==============================] - 0s 910us/step - loss: 28.4620\n",
            "Epoch 41/100\n",
            "240/240 [==============================] - 0s 800us/step - loss: 28.1804\n",
            "Epoch 42/100\n",
            "240/240 [==============================] - 0s 832us/step - loss: 27.8878\n",
            "Epoch 43/100\n",
            "240/240 [==============================] - 0s 891us/step - loss: 27.9275\n",
            "Epoch 44/100\n",
            "240/240 [==============================] - 0s 826us/step - loss: 27.3398\n",
            "Epoch 45/100\n",
            "240/240 [==============================] - 0s 1ms/step - loss: 27.4893\n",
            "Epoch 46/100\n",
            "240/240 [==============================] - 0s 800us/step - loss: 27.3927\n",
            "Epoch 47/100\n",
            "240/240 [==============================] - 0s 820us/step - loss: 28.1414\n",
            "Epoch 48/100\n",
            "240/240 [==============================] - 0s 818us/step - loss: 26.9266\n",
            "Epoch 49/100\n",
            "240/240 [==============================] - 0s 871us/step - loss: 27.2070\n",
            "Epoch 50/100\n",
            "240/240 [==============================] - 0s 829us/step - loss: 27.1277\n",
            "Epoch 51/100\n",
            "240/240 [==============================] - 0s 810us/step - loss: 26.8160\n",
            "Epoch 52/100\n",
            "240/240 [==============================] - 0s 829us/step - loss: 27.4911\n",
            "Epoch 53/100\n",
            "240/240 [==============================] - 0s 810us/step - loss: 27.7438\n",
            "Epoch 54/100\n",
            "240/240 [==============================] - 0s 870us/step - loss: 27.4520\n",
            "Epoch 55/100\n",
            "240/240 [==============================] - 0s 921us/step - loss: 27.4459\n",
            "Epoch 56/100\n",
            "240/240 [==============================] - 0s 830us/step - loss: 26.7460\n",
            "Epoch 57/100\n",
            "240/240 [==============================] - 0s 890us/step - loss: 27.1278\n",
            "Epoch 58/100\n",
            "240/240 [==============================] - 0s 824us/step - loss: 26.3430\n",
            "Epoch 59/100\n",
            "240/240 [==============================] - 0s 876us/step - loss: 26.7903\n",
            "Epoch 60/100\n",
            "240/240 [==============================] - 0s 814us/step - loss: 26.9780\n",
            "Epoch 61/100\n",
            "240/240 [==============================] - 0s 832us/step - loss: 27.0237\n",
            "Epoch 62/100\n",
            "240/240 [==============================] - 0s 825us/step - loss: 27.5419\n",
            "Epoch 63/100\n",
            "240/240 [==============================] - 0s 823us/step - loss: 26.8068\n",
            "Epoch 64/100\n",
            "240/240 [==============================] - 0s 881us/step - loss: 26.7407\n",
            "Epoch 65/100\n",
            "240/240 [==============================] - 0s 831us/step - loss: 26.4147\n",
            "Epoch 66/100\n",
            "240/240 [==============================] - 0s 883us/step - loss: 27.2689\n",
            "Epoch 67/100\n",
            "240/240 [==============================] - 0s 822us/step - loss: 27.1648\n",
            "Epoch 68/100\n",
            "240/240 [==============================] - 0s 1ms/step - loss: 26.5651\n",
            "Epoch 69/100\n",
            "240/240 [==============================] - 0s 980us/step - loss: 26.7683\n",
            "Epoch 70/100\n",
            "240/240 [==============================] - 0s 885us/step - loss: 27.5250\n",
            "Epoch 71/100\n",
            "240/240 [==============================] - 0s 813us/step - loss: 26.6100\n",
            "Epoch 72/100\n",
            "240/240 [==============================] - 0s 865us/step - loss: 26.5340\n",
            "Epoch 73/100\n",
            "240/240 [==============================] - 0s 812us/step - loss: 26.6507\n",
            "Epoch 74/100\n",
            "240/240 [==============================] - 0s 877us/step - loss: 26.5729\n",
            "Epoch 75/100\n",
            "240/240 [==============================] - 0s 821us/step - loss: 27.1086\n",
            "Epoch 76/100\n",
            "240/240 [==============================] - 0s 901us/step - loss: 26.8766\n",
            "Epoch 77/100\n",
            "240/240 [==============================] - 0s 848us/step - loss: 26.7003\n",
            "Epoch 78/100\n",
            "240/240 [==============================] - 0s 854us/step - loss: 26.7080\n",
            "Epoch 79/100\n",
            "240/240 [==============================] - 0s 883us/step - loss: 27.0662\n",
            "Epoch 80/100\n",
            "240/240 [==============================] - 0s 942us/step - loss: 26.6954\n",
            "Epoch 81/100\n",
            "240/240 [==============================] - 0s 836us/step - loss: 26.7387\n",
            "Epoch 82/100\n",
            "240/240 [==============================] - 0s 820us/step - loss: 26.7531\n",
            "Epoch 83/100\n",
            "240/240 [==============================] - 0s 983us/step - loss: 26.6153\n",
            "Epoch 84/100\n",
            "240/240 [==============================] - 0s 860us/step - loss: 26.4495\n",
            "Epoch 85/100\n",
            "240/240 [==============================] - 0s 845us/step - loss: 27.0527\n",
            "Epoch 86/100\n",
            "240/240 [==============================] - 0s 831us/step - loss: 26.6960\n",
            "Epoch 87/100\n",
            "240/240 [==============================] - 0s 814us/step - loss: 27.5589\n",
            "Epoch 88/100\n",
            "240/240 [==============================] - 0s 912us/step - loss: 26.7605\n",
            "Epoch 89/100\n",
            "240/240 [==============================] - 0s 856us/step - loss: 26.3468\n",
            "Epoch 90/100\n",
            "240/240 [==============================] - 0s 824us/step - loss: 26.7510\n",
            "Epoch 91/100\n",
            "240/240 [==============================] - 0s 906us/step - loss: 26.7294\n",
            "Epoch 92/100\n",
            "240/240 [==============================] - 0s 882us/step - loss: 26.9206\n",
            "Epoch 93/100\n",
            "240/240 [==============================] - 0s 883us/step - loss: 26.5817\n",
            "Epoch 94/100\n",
            "240/240 [==============================] - 0s 942us/step - loss: 26.9585\n",
            "Epoch 95/100\n",
            "240/240 [==============================] - 0s 846us/step - loss: 27.4889\n",
            "Epoch 96/100\n",
            "240/240 [==============================] - 0s 885us/step - loss: 26.4610\n",
            "Epoch 97/100\n",
            "240/240 [==============================] - 0s 916us/step - loss: 26.6458\n",
            "Epoch 98/100\n",
            "240/240 [==============================] - 0s 831us/step - loss: 27.0195\n",
            "Epoch 99/100\n",
            "240/240 [==============================] - 0s 884us/step - loss: 26.3849\n",
            "Epoch 100/100\n",
            "240/240 [==============================] - 0s 836us/step - loss: 27.0408\n"
          ],
          "name": "stdout"
        },
        {
          "output_type": "execute_result",
          "data": {
            "text/plain": [
              "<tensorflow.python.keras.callbacks.History at 0x7fc6eea33e10>"
            ]
          },
          "metadata": {
            "tags": []
          },
          "execution_count": 15
        }
      ]
    },
    {
      "cell_type": "markdown",
      "metadata": {
        "id": "0H0zKKNEBLD5"
      },
      "source": [
        "### Predicting the results of the Test set"
      ]
    },
    {
      "cell_type": "code",
      "metadata": {
        "id": "8iz1rqKVEcLt",
        "outputId": "05cc7801-8603-4933-b9be-6e72aca4980a",
        "colab": {
          "base_uri": "https://localhost:8080/",
          "height": 136
        }
      },
      "source": [
        "y_pred = ann.predict(x=X_test)\n",
        "\n",
        "# setting only 2 decimal places\n",
        "np.set_printoptions(precision=2)\n",
        "\n",
        "# Put the predictions and true value matrix vertically and compare (vertical concatenate - axis=1)\n",
        "comparison = np.concatenate((y_pred.reshape(len(y_pred), 1), y_test.reshape(len(y_test), 1)), axis=1)\n",
        "\n",
        "print (comparison)\n",
        "\n"
      ],
      "execution_count": 17,
      "outputs": [
        {
          "output_type": "stream",
          "text": [
            "[[432.45 431.23]\n",
            " [463.5  460.01]\n",
            " [467.   461.14]\n",
            " ...\n",
            " [474.25 473.26]\n",
            " [440.98 438.  ]\n",
            " [460.22 463.28]]\n"
          ],
          "name": "stdout"
        }
      ]
    },
    {
      "cell_type": "code",
      "metadata": {
        "id": "-JB_oDeyGnzq"
      },
      "source": [
        ""
      ],
      "execution_count": null,
      "outputs": []
    }
  ]
}